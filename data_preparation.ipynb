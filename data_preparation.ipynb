{
 "cells": [
  {
   "cell_type": "code",
   "execution_count": null,
   "metadata": {
    "scrolled": true
   },
   "outputs": [],
   "source": [
    "import numpy as np \n",
    "import os\n",
    "import copy\n",
    "from math import *\n",
    "import matplotlib.pyplot as plt\n",
    "from functools import reduce\n",
    "import cv2\n",
    "from tqdm import tqdm\n",
    "import glob"
   ]
  },
  {
   "cell_type": "markdown",
   "metadata": {},
   "source": [
    "# 1. Convert cdcm Dicom file series to nifti files"
   ]
  },
  {
   "cell_type": "code",
   "execution_count": null,
   "metadata": {},
   "outputs": [],
   "source": [
    "!pip install dicom2nifti"
   ]
  },
  {
   "cell_type": "code",
   "execution_count": null,
   "metadata": {},
   "outputs": [],
   "source": [
    "import dicom2nifti\n",
    "DATA_PATH = '/home/centos/3D_segmentation/Track A'\n",
    "folders = glob.glob(os.path.join(DATA_PATH, '*4'))\n",
    "for f in tqdm(folders):\n",
    "    # create a file path to save nii files\n",
    "    filepath = f.replace('Track A', 'mask_nii_test')\n",
    "    if os.path.exists(filepath)!=True:\n",
    "        os.mkdir(filepath)\n",
    "    dicom2nifti.convert_directory(f,filepath, compression=True, reorient=True)"
   ]
  },
  {
   "cell_type": "markdown",
   "metadata": {},
   "source": [
    "# 2. Convert JSON files to nifti mask"
   ]
  },
  {
   "cell_type": "code",
   "execution_count": null,
   "metadata": {},
   "outputs": [],
   "source": [
    "files = glob.glob(os.path.join(DATA_PATH, '*.json')\n",
    "\n",
    "# Save 3D np array (.npy files) in des_folder\n",
    "# This step is necessary to convert JSON files to mask \n",
    "des_folder = '/home/centos/3D_segmentation/mask'\n",
    "                  \n",
    "for file in tqdm(files):\n",
    "    with open(file) as json_file:\n",
    "        data = json.load(json_file)  \n",
    "    \n",
    "    mask = np.zeros((512, 512, 512))\n",
    "    \n",
    "    for e in data['annotation']['tooth']:\n",
    "        try:\n",
    "            coords = data['annotation']['tooth'][e]['coordinate']\n",
    "            \n",
    "\n",
    "            l = int(len(coords)/3)\n",
    "            a = {}\n",
    "            a[0] = np.zeros((l, 1))\n",
    "            a[1] = np.zeros((l, 1))\n",
    "            a[2] = np.zeros((l, 1))\n",
    "            j = 0\n",
    "\n",
    "            for x in range(0, len(coords), 3):\n",
    "                a[0][j] = int(coords[x])\n",
    "                a[1][j] = int(coords[x+1])\n",
    "                a[2][j] = int(coords[x+2])\n",
    "                j = j + 1\n",
    "\n",
    "            for i in range(len(a[0])):\n",
    "                mask[int(a[2][i]), int(a[1][i]), int(a[0][i])] = 1\n",
    "\n",
    "        except:\n",
    "            print(e)\n",
    "            \n",
    "        \n",
    "        name = file.split('/')[-1].split('.')[0] + '.npy'\n",
    "        np.save(os.path.join(des_folder, name),mask)"
   ]
  },
  {
   "cell_type": "code",
   "execution_count": null,
   "metadata": {},
   "outputs": [],
   "source": [
    "# Now, convert 3D np array mask into nifti files\n",
    "import nibabel as nib\n",
    "import numpy as np\n",
    "\n",
    "datadir = glob.glob(os.path.join(DATA_PATH, '*4'))\n",
    "# folder to save mask nifti files\n",
    "outdir = '/home/centos/3D_segmentation/mask_nii'\n",
    "for d in tqdm(datadir):\n",
    "    depth = len(glob.glob(os.path.join(d,'*')))\n",
    "    print(depth)\n",
    "    lb = np.load(d.replace('Track A', 'mask')+'.npy')\n",
    "    lb = lb[:depth,:,:]\n",
    "    print(lb.shape)\n",
    "    new_image = nib.Nifti1Image(lb, affine=np.eye(4))\n",
    "    name = d.split('/')[-1].split('.')[0] + '.nii.gz'\n",
    "    nib.save(new_image, os.path.join(outdir, name)) "
   ]
  },
  {
   "cell_type": "code",
   "execution_count": null,
   "metadata": {},
   "outputs": [],
   "source": []
  }
 ],
 "metadata": {
  "kernelspec": {
   "display_name": "Python 3",
   "language": "python",
   "name": "python3"
  },
  "language_info": {
   "codemirror_mode": {
    "name": "ipython",
    "version": 3
   },
   "file_extension": ".py",
   "mimetype": "text/x-python",
   "name": "python",
   "nbconvert_exporter": "python",
   "pygments_lexer": "ipython3",
   "version": "3.6.10"
  }
 },
 "nbformat": 4,
 "nbformat_minor": 2
}
